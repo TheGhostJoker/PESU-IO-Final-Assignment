{
 "cells": [
  {
   "cell_type": "markdown",
   "metadata": {},
   "source": [
    "# Web Scraping Code"
   ]
  },
  {
   "cell_type": "code",
   "execution_count": 1,
   "metadata": {},
   "outputs": [],
   "source": [
    "import bs4 as bs\n",
    "import lxml\n",
    "import urllib.request as handler\n",
    "import csv\n",
    "import os\n",
    "import random"
   ]
  },
  {
   "cell_type": "code",
   "execution_count": 2,
   "metadata": {},
   "outputs": [],
   "source": [
    "main_url = 'https://karki23.github.io/Weather-Data/'\n",
    "index_data = handler.urlopen(main_url + 'assignment.html').read()"
   ]
  },
  {
   "cell_type": "code",
   "execution_count": 3,
   "metadata": {},
   "outputs": [
    {
     "name": "stdout",
     "output_type": "stream",
     "text": [
      "b'<!DOCTYPE html>\\n<html>\\n<head>\\n\\t<title>FINAL ASSIGNMENT</title>\\n</head>\\n<body>\\n<div>\\n      Here\\'s the list of 49 cities, each one of these links will redirect you to a page containing the weather data for that particular city:\\n    </div>\\n    <ul>\\n    <li><a href=\"Albury.html\">Albury</a></li><br>\\n    <li><a href=\"BadgerysCreek.html\">Badgerys Creek</a></li><br>\\n    <li><a href=\"Cobar.html\">Cobar</a></li><br>\\n    <li><a href=\"CoffsHarbour.html\">Coffs Harbour</a></li><br>\\n    <li><a href=\"Moree.html\">Moree</a></li><br>\\n    <li><a href=\"Newcastle.html\">Newcastle</a></li><br>\\n    <li><a href=\"NorahHead.html\">NorahHead</a></li><br>\\n    <li><a href=\"NorfolkIsland.html\">Norfolk Island</a></li><br>\\n    <li><a href=\"Penrith.html\">Penrith</a></li><br>\\n    <li><a href=\"Richmond.html\">Richmond</a></li><br>\\n    <li><a href=\"Sydney.html\">Sydney</a></li><br>\\n    <li><a href=\"SydneyAirport.html\">Sydney Airport</a></li><br>\\n    <li><a href=\"WaggaWagga.html\">Wagga Wagga</a></li><br>\\n    <li><a href=\"Williamtown.html\">William town</a></li><br>\\n    <li><a href=\"Wollongong.html\">Wollongong</a></li><br>\\n    <li><a href=\"Canberra.html\">Canberra</a></li><br>\\n    <li><a href=\"Tuggeranong.html\">Tuggeranong</a></li><br>\\n    <li><a href=\"MountGinini.html\">Mount Ginini</a></li><br>\\n    <li><a href=\"Ballarat.html\">Ballarat</a></li><br>\\n    <li><a href=\"Bendigo.html\">Bendigo</a></li><br>\\n    <li><a href=\"Sale.html\">Sale</a></li><br>\\n    <li><a href=\"MelbourneAirport.html\">Melbourne Airport</a></li><br>\\n    <li><a href=\"Melbourne.html\">Melbourne</a></li><br>\\n    <li><a href=\"Mildura.html\">Mildura</a></li><br>\\n    <li><a href=\"Nhil.html\">Nhil</a></li><br>\\n    <li><a href=\"Portland.html\">Portland</a></li><br>\\n    <li><a href=\"Watsonia.html\">Watsonia</a></li><br>\\n    <li><a href=\"Dartmoor.html\">Dartmoor</a></li><br>\\n    <li><a href=\"Brisbane.html\">Brisbane</a></li><br>\\n    <li><a href=\"Cairns.html\">Cairns</a></li><br>\\n    <li><a href=\"GoldCoast.html\">Gold Coast</a></li><br>\\n    <li><a href=\"Townsville.html\">Townsville</a></li><br>\\n    <li><a href=\"Adelaide.html\">Adelaide</a></li><br>\\n    <li><a href=\"MountGambier.html\">Mount Gambier</a></li><br>\\n    <li><a href=\"Nuriootpa.html\">Nuriootpa</a></li><br>\\n    <li><a href=\"Woomera.html\">Woomera</a></li><br>\\n    <li><a href=\"Albany.html\">Albany</a></li><br>\\n    <li><a href=\"Witchcliffe.html\">Witchcliffe</a></li><br>\\n    <li><a href=\"PearceRAAF.html\">PearceRAAF</a></li><br>\\n    <li><a href=\"PerthAirport.html\">Perth Airport</a></li><br>\\n    <li><a href=\"Perth.html\">Perth</a></li><br>\\n    <li><a href=\"SalmonGums.html\">SalmonGums</a></li><br>\\n    <li><a href=\"Walpole.html\">Walpole</a></li><br>\\n    <li><a href=\"Hobart.html\">Hobart</a></li><br>\\n    <li><a href=\"Launceston.html\">Launceston</a></li><br>\\n    <li><a href=\"AliceSprings.html\">Alice Springs</a></li><br>\\n    <li><a href=\"Darwin.html\">Darwin</a></li><br>\\n    <li><a href=\"Katherine.html\">Katherine</a></li><br>\\n    <li><a href=\"Uluru.html\">Uluru</a></li><br>\\n    </ul>\\n</body>\\n</html>'\n"
     ]
    }
   ],
   "source": [
    "print(index_data)"
   ]
  },
  {
   "cell_type": "code",
   "execution_count": 4,
   "metadata": {},
   "outputs": [],
   "source": [
    "index_data_parsed = bs.BeautifulSoup(index_data, 'lxml')"
   ]
  },
  {
   "cell_type": "code",
   "execution_count": 5,
   "metadata": {},
   "outputs": [
    {
     "name": "stdout",
     "output_type": "stream",
     "text": [
      "<!DOCTYPE html>\n",
      "<html>\n",
      "<head>\n",
      "<title>FINAL ASSIGNMENT</title>\n",
      "</head>\n",
      "<body>\n",
      "<div>\n",
      "      Here's the list of 49 cities, each one of these links will redirect you to a page containing the weather data for that particular city:\n",
      "    </div>\n",
      "<ul>\n",
      "<li><a href=\"Albury.html\">Albury</a></li><br/>\n",
      "<li><a href=\"BadgerysCreek.html\">Badgerys Creek</a></li><br/>\n",
      "<li><a href=\"Cobar.html\">Cobar</a></li><br/>\n",
      "<li><a href=\"CoffsHarbour.html\">Coffs Harbour</a></li><br/>\n",
      "<li><a href=\"Moree.html\">Moree</a></li><br/>\n",
      "<li><a href=\"Newcastle.html\">Newcastle</a></li><br/>\n",
      "<li><a href=\"NorahHead.html\">NorahHead</a></li><br/>\n",
      "<li><a href=\"NorfolkIsland.html\">Norfolk Island</a></li><br/>\n",
      "<li><a href=\"Penrith.html\">Penrith</a></li><br/>\n",
      "<li><a href=\"Richmond.html\">Richmond</a></li><br/>\n",
      "<li><a href=\"Sydney.html\">Sydney</a></li><br/>\n",
      "<li><a href=\"SydneyAirport.html\">Sydney Airport</a></li><br/>\n",
      "<li><a href=\"WaggaWagga.html\">Wagga Wagga</a></li><br/>\n",
      "<li><a href=\"Williamtown.html\">William town</a></li><br/>\n",
      "<li><a href=\"Wollongong.html\">Wollongong</a></li><br/>\n",
      "<li><a href=\"Canberra.html\">Canberra</a></li><br/>\n",
      "<li><a href=\"Tuggeranong.html\">Tuggeranong</a></li><br/>\n",
      "<li><a href=\"MountGinini.html\">Mount Ginini</a></li><br/>\n",
      "<li><a href=\"Ballarat.html\">Ballarat</a></li><br/>\n",
      "<li><a href=\"Bendigo.html\">Bendigo</a></li><br/>\n",
      "<li><a href=\"Sale.html\">Sale</a></li><br/>\n",
      "<li><a href=\"MelbourneAirport.html\">Melbourne Airport</a></li><br/>\n",
      "<li><a href=\"Melbourne.html\">Melbourne</a></li><br/>\n",
      "<li><a href=\"Mildura.html\">Mildura</a></li><br/>\n",
      "<li><a href=\"Nhil.html\">Nhil</a></li><br/>\n",
      "<li><a href=\"Portland.html\">Portland</a></li><br/>\n",
      "<li><a href=\"Watsonia.html\">Watsonia</a></li><br/>\n",
      "<li><a href=\"Dartmoor.html\">Dartmoor</a></li><br/>\n",
      "<li><a href=\"Brisbane.html\">Brisbane</a></li><br/>\n",
      "<li><a href=\"Cairns.html\">Cairns</a></li><br/>\n",
      "<li><a href=\"GoldCoast.html\">Gold Coast</a></li><br/>\n",
      "<li><a href=\"Townsville.html\">Townsville</a></li><br/>\n",
      "<li><a href=\"Adelaide.html\">Adelaide</a></li><br/>\n",
      "<li><a href=\"MountGambier.html\">Mount Gambier</a></li><br/>\n",
      "<li><a href=\"Nuriootpa.html\">Nuriootpa</a></li><br/>\n",
      "<li><a href=\"Woomera.html\">Woomera</a></li><br/>\n",
      "<li><a href=\"Albany.html\">Albany</a></li><br/>\n",
      "<li><a href=\"Witchcliffe.html\">Witchcliffe</a></li><br/>\n",
      "<li><a href=\"PearceRAAF.html\">PearceRAAF</a></li><br/>\n",
      "<li><a href=\"PerthAirport.html\">Perth Airport</a></li><br/>\n",
      "<li><a href=\"Perth.html\">Perth</a></li><br/>\n",
      "<li><a href=\"SalmonGums.html\">SalmonGums</a></li><br/>\n",
      "<li><a href=\"Walpole.html\">Walpole</a></li><br/>\n",
      "<li><a href=\"Hobart.html\">Hobart</a></li><br/>\n",
      "<li><a href=\"Launceston.html\">Launceston</a></li><br/>\n",
      "<li><a href=\"AliceSprings.html\">Alice Springs</a></li><br/>\n",
      "<li><a href=\"Darwin.html\">Darwin</a></li><br/>\n",
      "<li><a href=\"Katherine.html\">Katherine</a></li><br/>\n",
      "<li><a href=\"Uluru.html\">Uluru</a></li><br/>\n",
      "</ul>\n",
      "</body>\n",
      "</html>\n"
     ]
    }
   ],
   "source": [
    "print(index_data_parsed)"
   ]
  },
  {
   "cell_type": "markdown",
   "metadata": {},
   "source": [
    "## Get the list of all the cities in the assignment.html page, to make the scraping easier"
   ]
  },
  {
   "cell_type": "code",
   "execution_count": 6,
   "metadata": {},
   "outputs": [],
   "source": [
    "links = index_data_parsed.find_all('a')\n",
    "list_of_links = list()\n",
    "for i in links:\n",
    "    list_of_links.append(i.get('href'))"
   ]
  },
  {
   "cell_type": "code",
   "execution_count": 7,
   "metadata": {},
   "outputs": [
    {
     "name": "stdout",
     "output_type": "stream",
     "text": [
      "Albury.html\n",
      "BadgerysCreek.html\n",
      "Cobar.html\n",
      "CoffsHarbour.html\n",
      "Moree.html\n",
      "Newcastle.html\n",
      "NorahHead.html\n",
      "NorfolkIsland.html\n",
      "Penrith.html\n",
      "Richmond.html\n",
      "Sydney.html\n",
      "SydneyAirport.html\n",
      "WaggaWagga.html\n",
      "Williamtown.html\n",
      "Wollongong.html\n",
      "Canberra.html\n",
      "Tuggeranong.html\n",
      "MountGinini.html\n",
      "Ballarat.html\n",
      "Bendigo.html\n",
      "Sale.html\n",
      "MelbourneAirport.html\n",
      "Melbourne.html\n",
      "Mildura.html\n",
      "Nhil.html\n",
      "Portland.html\n",
      "Watsonia.html\n",
      "Dartmoor.html\n",
      "Brisbane.html\n",
      "Cairns.html\n",
      "GoldCoast.html\n",
      "Townsville.html\n",
      "Adelaide.html\n",
      "MountGambier.html\n",
      "Nuriootpa.html\n",
      "Woomera.html\n",
      "Albany.html\n",
      "Witchcliffe.html\n",
      "PearceRAAF.html\n",
      "PerthAirport.html\n",
      "Perth.html\n",
      "SalmonGums.html\n",
      "Walpole.html\n",
      "Hobart.html\n",
      "Launceston.html\n",
      "AliceSprings.html\n",
      "Darwin.html\n",
      "Katherine.html\n",
      "Uluru.html\n"
     ]
    }
   ],
   "source": [
    "for i in list_of_links:\n",
    "    print(i)"
   ]
  },
  {
   "cell_type": "code",
   "execution_count": 8,
   "metadata": {},
   "outputs": [],
   "source": [
    "os.chdir('dataset')"
   ]
  },
  {
   "cell_type": "code",
   "execution_count": 10,
   "metadata": {},
   "outputs": [],
   "source": [
    "def auto_parse(extension):\n",
    "    #print(main_url+extension)\n",
    "    data = handler.urlopen(main_url + extension).read()\n",
    "    data_parsed = bs.BeautifulSoup(data, 'lxml')\n",
    "    #print(data_parsed)\n",
    "    return data_parsed"
   ]
  },
  {
   "cell_type": "code",
   "execution_count": 11,
   "metadata": {},
   "outputs": [],
   "source": [
    "def csv_file_w(fname, row_data):\n",
    "    with open(fname, 'a', newline='') as fhandler:\n",
    "        csv_writer = csv.writer(fhandler)\n",
    "        csv_writer.writerow(row_data)"
   ]
  },
  {
   "cell_type": "code",
   "execution_count": 12,
   "metadata": {},
   "outputs": [],
   "source": [
    "mega_data = list()\n",
    "header = list()"
   ]
  },
  {
   "cell_type": "code",
   "execution_count": 13,
   "metadata": {},
   "outputs": [],
   "source": [
    "def head_parse(row_data, fname):\n",
    "    global header\n",
    "    #parse the first row with the heading\n",
    "    data_line = list()\n",
    "    i = row_data[0]\n",
    "    attr = i.find_all('th')\n",
    "    for j in attr:\n",
    "        data_line.append(j.text)\n",
    "        #print(j.text)\n",
    "    #print(data_line)\n",
    "    header = data_line[:]\n",
    "    csv_file_w(fname, data_line)\n",
    "    data_line.clear()"
   ]
  },
  {
   "cell_type": "code",
   "execution_count": 14,
   "metadata": {},
   "outputs": [],
   "source": [
    "data_line = list()\n",
    "def body_parse(row_data, fname):\n",
    "    #parse the rows with data\n",
    "    for i in row_data[1:]:\n",
    "        attr = i.find_all('td')\n",
    "        for j in attr:\n",
    "            data_line.append(j.text)\n",
    "        #print(data_line)\n",
    "        csv_file_w(fname, data_line) \n",
    "        data_line.clear()"
   ]
  },
  {
   "cell_type": "code",
   "execution_count": 15,
   "metadata": {},
   "outputs": [],
   "source": [
    "for i in list_of_links:\n",
    "    # generate the .csv filename for the city\n",
    "    fname = i[:i.index('.')] + '.csv'\n",
    "    # get the data and parse it\n",
    "    data_parsed = auto_parse(i)\n",
    "    # get the row data tags\n",
    "    row_data = data_parsed.find_all('tr')\n",
    "    \n",
    "    # parse the first row for the attribute headings\n",
    "    head_parse(row_data, fname)\n",
    "    #parse the rest of the rows for the weather related data\n",
    "    body_parse(row_data, fname)\n",
    "        \n",
    "        "
   ]
  },
  {
   "cell_type": "markdown",
   "metadata": {},
   "source": [
    "## The data for all the cities is combined into one File here"
   ]
  },
  {
   "cell_type": "code",
   "execution_count": 16,
   "metadata": {},
   "outputs": [],
   "source": [
    "flag = False\n",
    "for i in list_of_links:\n",
    "    fname = i[:i.index('.')] + '.csv'\n",
    "    with open(fname, 'r') as csvFile:\n",
    "        reader = csv.reader(csvFile)\n",
    "        for row in reader:\n",
    "            if flag == False:\n",
    "                flag = True\n",
    "            else:\n",
    "                mega_data.append(row)\n",
    "        flag = False\n",
    "        "
   ]
  },
  {
   "cell_type": "code",
   "execution_count": 17,
   "metadata": {},
   "outputs": [],
   "source": [
    "mega_data.insert(0, header)"
   ]
  },
  {
   "cell_type": "code",
   "execution_count": 18,
   "metadata": {},
   "outputs": [],
   "source": [
    "with open('combined_data.csv', 'w', newline = '') as hub:\n",
    "    fname = csv.writer(hub)\n",
    "    for i in mega_data:\n",
    "        fname.writerow(i)"
   ]
  },
  {
   "cell_type": "code",
   "execution_count": 19,
   "metadata": {},
   "outputs": [
    {
     "name": "stdout",
     "output_type": "stream",
     "text": [
      "['Date', 'Location', 'MinTemp', 'MaxTemp', 'Rainfall', 'Evaporation', 'Sunshine', 'WindGustDir', 'WindGustSpeed', 'WindDir9am', 'WindDir3pm', 'WindSpeed9am', 'WindSpeed3pm', 'Humidity9am', 'Humidity3pm', 'Pressure9am', 'Pressure3pm', 'Cloud9am', 'Cloud3pm', 'Temp9am', 'Temp3pm', 'RainToday', 'RISK_MM', 'RainTomorrow']\n"
     ]
    }
   ],
   "source": [
    "print(header)"
   ]
  },
  {
   "cell_type": "code",
   "execution_count": 20,
   "metadata": {},
   "outputs": [
    {
     "data": {
      "text/plain": [
       "142194"
      ]
     },
     "execution_count": 20,
     "metadata": {},
     "output_type": "execute_result"
    }
   ],
   "source": [
    "len(mega_data)"
   ]
  },
  {
   "cell_type": "code",
   "execution_count": 21,
   "metadata": {},
   "outputs": [],
   "source": [
    "os.chdir('..')"
   ]
  }
 ],
 "metadata": {
  "kernelspec": {
   "display_name": "Python 3",
   "language": "python",
   "name": "python3"
  },
  "language_info": {
   "codemirror_mode": {
    "name": "ipython",
    "version": 3
   },
   "file_extension": ".py",
   "mimetype": "text/x-python",
   "name": "python",
   "nbconvert_exporter": "python",
   "pygments_lexer": "ipython3",
   "version": "3.7.3"
  }
 },
 "nbformat": 4,
 "nbformat_minor": 2
}
